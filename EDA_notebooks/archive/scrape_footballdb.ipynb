{
 "cells": [
  {
   "cell_type": "code",
   "execution_count": 4,
   "metadata": {
    "collapsed": true
   },
   "outputs": [],
   "source": [
    "import requests\n",
    "from bs4 import BeautifulSoup"
   ]
  },
  {
   "cell_type": "code",
   "execution_count": 5,
   "metadata": {
    "collapsed": true
   },
   "outputs": [],
   "source": [
    "r = requests.get('http://www.footballdb.com/teams/nfl/seattle-seahawks/results/2015')"
   ]
  },
  {
   "cell_type": "code",
   "execution_count": 6,
   "metadata": {
    "collapsed": false
   },
   "outputs": [],
   "source": [
    "soup = BeautifulSoup(r.text)"
   ]
  },
  {
   "cell_type": "code",
   "execution_count": 7,
   "metadata": {
    "collapsed": false
   },
   "outputs": [],
   "source": [
    "header = soup.findAll('tr', {'class': 'header'})[0]\n",
    "table = soup.findAll('tr')"
   ]
  },
  {
   "cell_type": "code",
   "execution_count": 9,
   "metadata": {
    "collapsed": false
   },
   "outputs": [
    {
     "name": "stdout",
     "output_type": "stream",
     "text": [
      "<tr class=\"row0\"><td>09/13/2015</td><td>@ <a href=\"/teams/nfl/st-louis-rams/results\">St. Louis</a></td>\n",
      "<td>Edward Jones Dome (St. Louis, MO)</td><td><a href=\"/games/boxscore.html?gid=2015091307\">L 34-31</a>, <b>OT</b></td><td class=\"right\">51,792</td></tr>\n",
      "\"09/13/2015\",\"St. Louis\",\"Edward Jones Dome (St. Louis, MO)\",\"L 34-31\",\"51,792\"\n",
      "<tr class=\"row1\"><td>09/20/2015</td><td>@ <a href=\"/teams/nfl/green-bay-packers/results\">Green Bay</a></td>\n",
      "<td>Lambeau Field (Green Bay, WI)</td><td>8:30 PM</td><td class=\"right\"><a href=\"http://www.ticketmonster.com/buy-Green-Bay-Packers-vs.-Seattle-Seahawks-tickets-at-Lambeau-Field-Green-Bay-WI-09-20-2015/676367?aid=16890\" target=\"_new\"><img src=\"/images/buytickets4.png\" style=\"border:0; margin:0; padding:0; width:72px; height:22px; vertical-align:middle;\"/></a></td></tr>\n",
      "\"09/20/2015\",\"Green Bay\",\"Lambeau Field (Green Bay, WI)\",\"8:30 PM\"\n",
      "<tr class=\"row0\"><td>09/27/2015</td><td><a href=\"/teams/nfl/chicago-bears/results\">Chicago</a></td>\n",
      "<td>CenturyLink Field (Seattle, WA)</td><td>4:25 PM</td><td class=\"right\"><a href=\"http://www.ticketmonster.com/buy-Seattle-Seahawks-vs.-Chicago-Bears-tickets-at-CenturyLink-Field-Seattle-WA-09-27-2015/676503?aid=16890\" target=\"_new\"><img src=\"/images/buytickets4.png\" style=\"border:0; margin:0; padding:0; width:72px; height:22px; vertical-align:middle;\"/></a></td></tr>\n",
      "\"09/27/2015\",\"Chicago\",\"CenturyLink Field (Seattle, WA)\",\"4:25 PM\"\n",
      "<tr class=\"row1\"><td>10/05/2015 (Mon)</td><td><a href=\"/teams/nfl/detroit-lions/results\">Detroit</a></td>\n",
      "<td>CenturyLink Field (Seattle, WA)</td><td>8:30 PM</td><td class=\"right\"><a href=\"http://www.ticketmonster.com/buy-Seattle-Seahawks-vs.-Detroit-Lions-tickets-at-CenturyLink-Field-Seattle-WA-10-5-2015/676504?aid=16890\" target=\"_new\"><img src=\"/images/buytickets4.png\" style=\"border:0; margin:0; padding:0; width:72px; height:22px; vertical-align:middle;\"/></a></td></tr>\n",
      "\"10/05/2015\",\"Detroit\",\"CenturyLink Field (Seattle, WA)\",\"8:30 PM\"\n",
      "<tr class=\"row0\"><td>10/11/2015</td><td>@ <a href=\"/teams/nfl/cincinnati-bengals/results\">Cincinnati</a></td>\n",
      "<td>Paul Brown Stadium (Cincinnati, OH)</td><td>1:00 PM</td><td class=\"right\"><a href=\"http://www.ticketmonster.com/buy-Cincinnati-Bengals-vs.-Seattle-Seahawks-tickets-at-Paul-Brown-Stadium-Cincinnati-OH-10-11-2015/676448?aid=16890\" target=\"_new\"><img src=\"/images/buytickets4.png\" style=\"border:0; margin:0; padding:0; width:72px; height:22px; vertical-align:middle;\"/></a></td></tr>\n",
      "\"10/11/2015\",\"Cincinnati\",\"Paul Brown Stadium (Cincinnati, OH)\",\"1:00 PM\"\n",
      "<tr class=\"row1\"><td>10/18/2015</td><td><a href=\"/teams/nfl/carolina-panthers/results\">Carolina</a></td>\n",
      "<td>CenturyLink Field (Seattle, WA)</td><td>4:05 PM</td><td class=\"right\"><a href=\"http://www.ticketmonster.com/buy-Seattle-Seahawks-vs.-Carolina-Panthers-tickets-at-CenturyLink-Field-Seattle-WA-10-18-2015/676505?aid=16890\" target=\"_new\"><img src=\"/images/buytickets4.png\" style=\"border:0; margin:0; padding:0; width:72px; height:22px; vertical-align:middle;\"/></a></td></tr>\n",
      "\"10/18/2015\",\"Carolina\",\"CenturyLink Field (Seattle, WA)\",\"4:05 PM\"\n",
      "<tr class=\"row0\"><td>10/22/2015 (Thu)</td><td>@ <a href=\"/teams/nfl/san-francisco-49ers/results\">San Francisco</a></td>\n",
      "<td>Levi's Stadium (Santa Clara, CA)</td><td>8:25 PM</td><td class=\"right\"><a href=\"http://www.ticketmonster.com/buy-San-Francisco-49ers-vs.-Seattle-Seahawks-tickets-at-Levi's-Stadium-Santa-Clara-CA-10-22-2015/676494?aid=16890\" target=\"_new\"><img src=\"/images/buytickets4.png\" style=\"border:0; margin:0; padding:0; width:72px; height:22px; vertical-align:middle;\"/></a></td></tr>\n",
      "\"10/22/2015\",\"San Francisco\",\"Levi's Stadium (Santa Clara, CA)\",\"8:25 PM\"\n",
      "<tr class=\"row1\"><td>11/01/2015</td><td>@ <a href=\"/teams/nfl/dallas-cowboys/results\">Dallas</a></td>\n",
      "<td>AT&amp;T Stadium (Arlington, TX)</td><td>4:25 PM</td><td class=\"right\"><a href=\"http://www.ticketmonster.com/buy-Dallas-Cowboys-vs.-Seattle-Seahawks-tickets-at-AT&amp;T-Stadium-(formerly-Dallas-Cowboys-Stadium)-Arlington-Texas-11-1-2015/672179?aid=16890\" target=\"_new\"><img src=\"/images/buytickets4.png\" style=\"border:0; margin:0; padding:0; width:72px; height:22px; vertical-align:middle;\"/></a></td></tr>\n",
      "\"11/01/2015\",\"Dallas\",\"AT&T Stadium (Arlington, TX)\",\"4:25 PM\"\n",
      "<tr class=\"row0\"><td>11/15/2015</td><td><a href=\"/teams/nfl/arizona-cardinals/results\">Arizona</a></td>\n",
      "<td>CenturyLink Field (Seattle, WA)</td><td>8:30 PM</td><td class=\"right\"><a href=\"http://www.ticketmonster.com/buy-Seattle-Seahawks-vs.-Arizona-Cardinals-tickets-at-CenturyLink-Field-Seattle-WA-11-15-2015/676500?aid=16890\" target=\"_new\"><img src=\"/images/buytickets4.png\" style=\"border:0; margin:0; padding:0; width:72px; height:22px; vertical-align:middle;\"/></a></td></tr>\n",
      "\"11/15/2015\",\"Arizona\",\"CenturyLink Field (Seattle, WA)\",\"8:30 PM\"\n",
      "<tr class=\"row1\"><td>11/22/2015</td><td><a href=\"/teams/nfl/san-francisco-49ers/results\">San Francisco</a></td>\n",
      "<td>CenturyLink Field (Seattle, WA)</td><td>4:25 PM</td><td class=\"right\"><a href=\"http://www.ticketmonster.com/buy-Seattle-Seahawks-vs.-San-Francisco-49ers-tickets-at-CenturyLink-Field-Seattle-WA-11-22-2015/676501?aid=16890\" target=\"_new\"><img src=\"/images/buytickets4.png\" style=\"border:0; margin:0; padding:0; width:72px; height:22px; vertical-align:middle;\"/></a></td></tr>\n",
      "\"11/22/2015\",\"San Francisco\",\"CenturyLink Field (Seattle, WA)\",\"4:25 PM\"\n",
      "<tr class=\"row0\"><td>11/29/2015</td><td><a href=\"/teams/nfl/pittsburgh-steelers/results\">Pittsburgh</a></td>\n",
      "<td>CenturyLink Field (Seattle, WA)</td><td>4:25 PM</td><td class=\"right\"><a href=\"http://www.ticketmonster.com/buy-Seattle-Seahawks-vs.-Pittsburgh-Steelers-tickets-at-CenturyLink-Field-Seattle-WA-11-29-2015/676507?aid=16890\" target=\"_new\"><img src=\"/images/buytickets4.png\" style=\"border:0; margin:0; padding:0; width:72px; height:22px; vertical-align:middle;\"/></a></td></tr>\n",
      "\"11/29/2015\",\"Pittsburgh\",\"CenturyLink Field (Seattle, WA)\",\"4:25 PM\"\n",
      "<tr class=\"row1\"><td>12/06/2015</td><td>@ <a href=\"/teams/nfl/minnesota-vikings/results\">Minnesota</a></td>\n",
      "<td>TCF Bank Stadium (Minneapolis, MN)</td><td>1:00 PM</td><td class=\"right\"><a href=\"http://www.ticketmonster.com/buy-Minnesota-Vikings-vs.-Seattle-Seahawks-tickets-at-TCF-Bank-Stadium-Minneapolis-MN-12-6-2015/676389?aid=16890\" target=\"_new\"><img src=\"/images/buytickets4.png\" style=\"border:0; margin:0; padding:0; width:72px; height:22px; vertical-align:middle;\"/></a></td></tr>\n",
      "\"12/06/2015\",\"Minnesota\",\"TCF Bank Stadium (Minneapolis, MN)\",\"1:00 PM\"\n",
      "<tr class=\"row0\"><td>12/13/2015</td><td>@ <a href=\"/teams/nfl/baltimore-ravens/results\">Baltimore</a></td>\n",
      "<td>M&amp;T Bank Stadium (Baltimore, MD)</td><td>8:30 PM</td><td class=\"right\"><a href=\"http://www.ticketmonster.com/buy-Baltimore-Ravens-vs.-Seattle-Seahawks-tickets-at-M&amp;T-Bank-Stadium-Baltimore-MD-12-13-2015/676444?aid=16890\" target=\"_new\"><img src=\"/images/buytickets4.png\" style=\"border:0; margin:0; padding:0; width:72px; height:22px; vertical-align:middle;\"/></a></td></tr>\n",
      "\"12/13/2015\",\"Baltimore\",\"M&T Bank Stadium (Baltimore, MD)\",\"8:30 PM\"\n",
      "<tr class=\"row1\"><td>12/20/2015</td><td><a href=\"/teams/nfl/cleveland-browns/results\">Cleveland</a></td>\n",
      "<td>CenturyLink Field (Seattle, WA)</td><td>4:05 PM</td><td class=\"right\"><a href=\"http://www.ticketmonster.com/buy-Seattle-Seahawks-vs.-Cleveland-Browns-tickets-at-CenturyLink-Field-Seattle-WA-12-20-2015/676506?aid=16890\" target=\"_new\"><img src=\"/images/buytickets4.png\" style=\"border:0; margin:0; padding:0; width:72px; height:22px; vertical-align:middle;\"/></a></td></tr>\n",
      "\"12/20/2015\",\"Cleveland\",\"CenturyLink Field (Seattle, WA)\",\"4:05 PM\"\n",
      "<tr class=\"row0\"><td>12/27/2015</td><td><a href=\"/teams/nfl/st-louis-rams/results\">St. Louis</a></td>\n",
      "<td>CenturyLink Field (Seattle, WA)</td><td>4:25 PM</td><td class=\"right\"><a href=\"http://www.ticketmonster.com/buy-Seattle-Seahawks-vs.-St.-Louis-Rams-tickets-at-CenturyLink-Field-Seattle-WA-12-27-2015/676502?aid=16890\" target=\"_new\"><img src=\"/images/buytickets4.png\" style=\"border:0; margin:0; padding:0; width:72px; height:22px; vertical-align:middle;\"/></a></td></tr>\n",
      "\"12/27/2015\",\"St. Louis\",\"CenturyLink Field (Seattle, WA)\",\"4:25 PM\"\n",
      "<tr class=\"row1\"><td>01/03/2016</td><td>@ <a href=\"/teams/nfl/arizona-cardinals/results\">Arizona</a></td>\n",
      "<td>University of Phoenix Stadium (Glendale, AZ)</td><td>4:25 PM</td><td class=\"right\"><a href=\"http://www.ticketmonster.com/buy-Arizona-Cardinals-vs.-Seattle-Seahawks-tickets-at-University-of-Phoenix-Stadium-Glendale-AZ-01-3-2016/676491?aid=16890\" target=\"_new\"><img src=\"/images/buytickets4.png\" style=\"border:0; margin:0; padding:0; width:72px; height:22px; vertical-align:middle;\"/></a></td></tr>\n",
      "\"01/03/2016\",\"Arizona\",\"University of Phoenix Stadium (Glendale, AZ)\",\"4:25 PM\"\n",
      "<tr class=\"row0\"><td>08/14/2015 (Fri)</td><td><a href=\"/teams/nfl/denver-broncos/results\">Denver</a></td>\n",
      "<td>CenturyLink Field (Seattle, WA)</td><td><a href=\"/games/boxscore.html?gid=2015081406\">L 22-20</a></td><td class=\"right\">68,677</td></tr>\n",
      "\"08/14/2015\",\"Denver\",\"CenturyLink Field (Seattle, WA)\",\"L 22-20\",\"68,677\"\n",
      "<tr class=\"row1\"><td>08/21/2015 (Fri)</td><td>@ <a href=\"/teams/nfl/kansas-city-chiefs/results\">Kansas City</a></td>\n",
      "<td>Arrowhead Stadium (Kansas City, MO)</td><td><a href=\"/games/boxscore.html?gid=2015082102\">L 14-13</a></td><td class=\"right\">--</td></tr>\n",
      "\"08/21/2015\",\"Kansas City\",\"Arrowhead Stadium (Kansas City, MO)\",\"L 14-13\",\"--\"\n",
      "<tr class=\"row0\"><td>08/29/2015 (Sat)</td><td>@ <a href=\"/teams/nfl/san-diego-chargers/results\">San Diego</a></td>\n",
      "<td>Qualcomm Stadium (San Diego, CA)</td><td><a href=\"/games/boxscore.html?gid=2015082910\">W 16-15</a></td><td class=\"right\">58,556</td></tr>\n",
      "\"08/29/2015\",\"San Diego\",\"Qualcomm Stadium (San Diego, CA)\",\"W 16-15\",\"58,556\"\n",
      "<tr class=\"row1\"><td>09/03/2015 (Thu)</td><td><a href=\"/teams/nfl/oakland-raiders/results\">Oakland</a></td>\n",
      "<td>CenturyLink Field (Seattle, WA)</td><td><a href=\"/games/boxscore.html?gid=2015090316\">W 31-21</a></td><td class=\"right\">68,032</td></tr>\n",
      "\"09/03/2015\",\"Oakland\",\"CenturyLink Field (Seattle, WA)\",\"W 31-21\",\"68,032\"\n"
     ]
    }
   ],
   "source": [
    "for row in table:\n",
    "    if row.attrs.values()[0][0] != 'header':\n",
    "        #print row\n",
    "        unwanted = set(['@ ', ', ', 'OT', '\\n'])\n",
    "        quotes = '\"{0}\"'\n",
    "        data = []\n",
    "        for i, s in enumerate(row.strings):\n",
    "            quotes = '\"{0}\"'\n",
    "            if i == 0:\n",
    "                data.append(quotes.format(s.split(' ')[0]))\n",
    "            else:\n",
    "                if s not in unwanted:\n",
    "                    data.append(quotes.format(s))\n",
    "        print ','.join(data)"
   ]
  },
  {
   "cell_type": "code",
   "execution_count": 1,
   "metadata": {
    "collapsed": false
   },
   "outputs": [],
   "source": [
    "from footballdb_scraper import footballdb_scraper as fs"
   ]
  },
  {
   "cell_type": "code",
   "execution_count": 2,
   "metadata": {
    "collapsed": true
   },
   "outputs": [],
   "source": [
    "scraper = fs.FootballdbScraper()"
   ]
  },
  {
   "cell_type": "code",
   "execution_count": 3,
   "metadata": {
    "collapsed": false
   },
   "outputs": [],
   "source": [
    "scraper.download_years([2009, 2010, 2011, 2012, 2013, 2014, 2015])"
   ]
  },
  {
   "cell_type": "code",
   "execution_count": null,
   "metadata": {
    "collapsed": true
   },
   "outputs": [],
   "source": []
  }
 ],
 "metadata": {
  "kernelspec": {
   "display_name": "Python 2",
   "language": "python",
   "name": "python2"
  },
  "language_info": {
   "codemirror_mode": {
    "name": "ipython",
    "version": 2
   },
   "file_extension": ".py",
   "mimetype": "text/x-python",
   "name": "python",
   "nbconvert_exporter": "python",
   "pygments_lexer": "ipython2",
   "version": "2.7.10"
  }
 },
 "nbformat": 4,
 "nbformat_minor": 0
}
