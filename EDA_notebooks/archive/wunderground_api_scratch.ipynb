{
 "cells": [
  {
   "cell_type": "code",
   "execution_count": 1,
   "metadata": {
    "collapsed": true
   },
   "outputs": [],
   "source": [
    "import requests\n",
    "from bs4 import BeautifulSoup"
   ]
  },
  {
   "cell_type": "code",
   "execution_count": 2,
   "metadata": {
    "collapsed": true
   },
   "outputs": [],
   "source": [
    "r = requests.get('http://api.wunderground.com/api/3455d3f7e7c94122/conditions/q/WA/Seattle.json')"
   ]
  },
  {
   "cell_type": "code",
   "execution_count": 6,
   "metadata": {
    "collapsed": false
   },
   "outputs": [],
   "source": [
    "d = r.json()['current_observation']"
   ]
  },
  {
   "cell_type": "code",
   "execution_count": 13,
   "metadata": {
    "collapsed": false
   },
   "outputs": [],
   "source": [
    "{'conditions': d['weather'], 'winddir': d['wind_dir'], 'dewpoint': d['dewpoint_f'], 'gustpeed': d['wind_gust_mph']\n",
    "'heatindex': d['heat_index_f']\n",
    "'humidity': d['relative_humidity']\n",
    "'precip': d['precip_1hr_in']\n",
    "'pressure': d['pressure_in']\n",
    "'temp': d['temp_f']\n",
    "'visibility': d['visibility_mi']\n",
    "'windspeed': d['wind_mph']}"
   ]
  },
  {
   "cell_type": "code",
   "execution_count": 12,
   "metadata": {
    "collapsed": false
   },
   "outputs": [
    {
     "data": {
      "text/plain": [
       "{u'current_observation': {u'UV': u'2',\n",
       "  u'dewpoint_c': 13,\n",
       "  u'dewpoint_f': 55,\n",
       "  u'dewpoint_string': u'55 F (13 C)',\n",
       "  u'display_location': {u'city': u'Seattle',\n",
       "   u'country': u'US',\n",
       "   u'country_iso3166': u'US',\n",
       "   u'elevation': u'63.00000000',\n",
       "   u'full': u'Seattle, WA',\n",
       "   u'latitude': u'47.61167908',\n",
       "   u'longitude': u'-122.33325958',\n",
       "   u'magic': u'1',\n",
       "   u'state': u'WA',\n",
       "   u'state_name': u'Washington',\n",
       "   u'wmo': u'99999',\n",
       "   u'zip': u'98101'},\n",
       "  u'estimated': {},\n",
       "  u'feelslike_c': u'15.3',\n",
       "  u'feelslike_f': u'59.6',\n",
       "  u'feelslike_string': u'59.6 F (15.3 C)',\n",
       "  u'forecast_url': u'http://www.wunderground.com/US/WA/Seattle.html',\n",
       "  u'heat_index_c': u'NA',\n",
       "  u'heat_index_f': u'NA',\n",
       "  u'heat_index_string': u'NA',\n",
       "  u'history_url': u'http://www.wunderground.com/weatherstation/WXDailyHistory.asp?ID=KWASEATT187',\n",
       "  u'icon': u'mostlycloudy',\n",
       "  u'icon_url': u'http://icons.wxug.com/i/c/k/mostlycloudy.gif',\n",
       "  u'image': {u'link': u'http://www.wunderground.com',\n",
       "   u'title': u'Weather Underground',\n",
       "   u'url': u'http://icons.wxug.com/graphics/wu2/logo_130x80.png'},\n",
       "  u'local_epoch': u'1442518453',\n",
       "  u'local_time_rfc822': u'Thu, 17 Sep 2015 12:34:13 -0700',\n",
       "  u'local_tz_long': u'America/Los_Angeles',\n",
       "  u'local_tz_offset': u'-0700',\n",
       "  u'local_tz_short': u'PDT',\n",
       "  u'nowcast': u'',\n",
       "  u'ob_url': u'http://www.wunderground.com/cgi-bin/findweather/getForecast?query=47.616558,-122.341240',\n",
       "  u'observation_epoch': u'1442518452',\n",
       "  u'observation_location': {u'city': u'Herrera, Inc., Seattle',\n",
       "   u'country': u'US',\n",
       "   u'country_iso3166': u'US',\n",
       "   u'elevation': u'121 ft',\n",
       "   u'full': u'Herrera, Inc., Seattle, Washington',\n",
       "   u'latitude': u'47.616558',\n",
       "   u'longitude': u'-122.341240',\n",
       "   u'state': u'Washington'},\n",
       "  u'observation_time': u'Last Updated on September 17, 12:34 PM PDT',\n",
       "  u'observation_time_rfc822': u'Thu, 17 Sep 2015 12:34:12 -0700',\n",
       "  u'precip_1hr_in': u'0.31',\n",
       "  u'precip_1hr_metric': u' 8',\n",
       "  u'precip_1hr_string': u'0.31 in ( 8 mm)',\n",
       "  u'precip_today_in': u'0.18',\n",
       "  u'precip_today_metric': u'5',\n",
       "  u'precip_today_string': u'0.18 in (5 mm)',\n",
       "  u'pressure_in': u'29.92',\n",
       "  u'pressure_mb': u'1013',\n",
       "  u'pressure_trend': u'+',\n",
       "  u'relative_humidity': u'86%',\n",
       "  u'solarradiation': u'--',\n",
       "  u'station_id': u'KWASEATT187',\n",
       "  u'temp_c': 15.3,\n",
       "  u'temp_f': 59.6,\n",
       "  u'temperature_string': u'59.6 F (15.3 C)',\n",
       "  u'visibility_km': u'16.1',\n",
       "  u'visibility_mi': u'10.0',\n",
       "  u'weather': u'Mostly Cloudy',\n",
       "  u'wind_degrees': 142,\n",
       "  u'wind_dir': u'SE',\n",
       "  u'wind_gust_kph': u'16.1',\n",
       "  u'wind_gust_mph': u'10.0',\n",
       "  u'wind_kph': 0,\n",
       "  u'wind_mph': 0.0,\n",
       "  u'wind_string': u'Calm',\n",
       "  u'windchill_c': u'NA',\n",
       "  u'windchill_f': u'NA',\n",
       "  u'windchill_string': u'NA'},\n",
       " u'response': {u'features': {u'conditions': 1},\n",
       "  u'termsofService': u'http://www.wunderground.com/weather/api/d/terms.html',\n",
       "  u'version': u'0.1'}}"
      ]
     },
     "execution_count": 12,
     "metadata": {},
     "output_type": "execute_result"
    }
   ],
   "source": [
    "r.json()"
   ]
  },
  {
   "cell_type": "code",
   "execution_count": null,
   "metadata": {
    "collapsed": true
   },
   "outputs": [],
   "source": []
  }
 ],
 "metadata": {
  "kernelspec": {
   "display_name": "Python 2",
   "language": "python",
   "name": "python2"
  },
  "language_info": {
   "codemirror_mode": {
    "name": "ipython",
    "version": 2
   },
   "file_extension": ".py",
   "mimetype": "text/x-python",
   "name": "python",
   "nbconvert_exporter": "python",
   "pygments_lexer": "ipython2",
   "version": "2.7.10"
  }
 },
 "nbformat": 4,
 "nbformat_minor": 0
}
