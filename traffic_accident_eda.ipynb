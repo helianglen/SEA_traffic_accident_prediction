{
 "cells": [
  {
   "cell_type": "code",
   "execution_count": 1,
   "metadata": {
    "collapsed": false
   },
   "outputs": [],
   "source": [
    "import socrata_api_wrapper\n",
    "from socrata_api_wrapper import SocrataAPI\n",
    "import psql_helper\n",
    "from psql_helper import PsqlConnection\n",
    "import pandas as pd\n",
    "import numpy as np\n",
    "from matplotlib import pyplot as plt\n",
    "from mpl_toolkits.basemap import Basemap\n",
    "import psycopg2\n",
    "%matplotlib inline"
   ]
  },
  {
   "cell_type": "code",
   "execution_count": 2,
   "metadata": {
    "collapsed": false
   },
   "outputs": [
    {
     "data": {
      "text/plain": [
       "<module 'psql_helper' from 'psql_helper.pyc'>"
      ]
     },
     "execution_count": 2,
     "metadata": {},
     "output_type": "execute_result"
    }
   ],
   "source": [
    "reload(socrata_api_wrapper)\n",
    "reload(psql_helper)"
   ]
  },
  {
   "cell_type": "code",
   "execution_count": 3,
   "metadata": {
    "collapsed": false
   },
   "outputs": [],
   "source": [
    "token = 'Opp5gz1KaGplrPjbqnSsWkqHB'"
   ]
  },
  {
   "cell_type": "code",
   "execution_count": 4,
   "metadata": {
    "collapsed": false
   },
   "outputs": [
    {
     "name": "stdout",
     "output_type": "stream",
     "text": [
      "Connection Open\n"
     ]
    }
   ],
   "source": [
    "api = SocrataAPI(token)\n",
    "psql = PsqlConnection(db='traffic_accident', user='minghuang')"
   ]
  },
  {
   "cell_type": "markdown",
   "metadata": {},
   "source": [
    "# Get 911 response data"
   ]
  },
  {
   "cell_type": "code",
   "execution_count": 5,
   "metadata": {
    "collapsed": true
   },
   "outputs": [],
   "source": [
    "r = api.request('https://data.seattle.gov/resource/pu5n-trf4.json')\n",
    "headers = r.get_headers()\n",
    "r.set_primary_id('cad_cdw_id')"
   ]
  },
  {
   "cell_type": "code",
   "execution_count": 5,
   "metadata": {
    "collapsed": false
   },
   "outputs": [
    {
     "name": "stdout",
     "output_type": "stream",
     "text": [
      "Download Complete\n"
     ]
    }
   ],
   "source": [
    "r.download_csv(file_name='911calls.csv')"
   ]
  },
  {
   "cell_type": "code",
   "execution_count": 6,
   "metadata": {
    "collapsed": false
   },
   "outputs": [
    {
     "name": "stdout",
     "output_type": "stream",
     "text": [
      "Table raw_911_response dropped.\n",
      "Table raw_911_response created in traffic_accident\n",
      "CSV inserted into raw_911_response.\n"
     ]
    }
   ],
   "source": [
    "psql.drop_table('raw_911_response')\n",
    "psql.create_table(headers, 'raw_911_response')\n",
    "psql.insert_csv('raw_911_response', '/Users/minghuang/Documents/temp/911calls.csv')"
   ]
  },
  {
   "cell_type": "markdown",
   "metadata": {},
   "source": [
    "#Get road weather data"
   ]
  },
  {
   "cell_type": "code",
   "execution_count": 7,
   "metadata": {
    "collapsed": true
   },
   "outputs": [],
   "source": [
    "r = api.request('https://data.seattle.gov/resource/egc4-d24i.json')\n",
    "headers = r.get_headers()\n",
    "r.set_primary_id('recordid')"
   ]
  },
  {
   "cell_type": "code",
   "execution_count": 23,
   "metadata": {
    "collapsed": false
   },
   "outputs": [
    {
     "name": "stdout",
     "output_type": "stream",
     "text": [
      "Download Complete\n"
     ]
    }
   ],
   "source": [
    "r.download_csv(file_name='roadweather.csv')"
   ]
  },
  {
   "cell_type": "code",
   "execution_count": 8,
   "metadata": {
    "collapsed": false
   },
   "outputs": [
    {
     "name": "stdout",
     "output_type": "stream",
     "text": [
      "Table raw_road_weather dropped.\n",
      "Table raw_road_weather created in traffic_accident\n",
      "CSV inserted into raw_road_weather.\n"
     ]
    }
   ],
   "source": [
    "psql.drop_table('raw_road_weather')\n",
    "psql.create_table(headers, 'raw_road_weather')\n",
    "psql.insert_csv('raw_road_weather', '/Users/minghuang/Documents/temp/roadweather.csv')"
   ]
  },
  {
   "cell_type": "code",
   "execution_count": 9,
   "metadata": {
    "collapsed": false
   },
   "outputs": [
    {
     "name": "stdout",
     "output_type": "stream",
     "text": [
      "Connection Closed\n"
     ]
    }
   ],
   "source": [
    "psql.end_connection()"
   ]
  },
  {
   "cell_type": "markdown",
   "metadata": {},
   "source": [
    "#EDA"
   ]
  },
  {
   "cell_type": "code",
   "execution_count": 10,
   "metadata": {
    "collapsed": true
   },
   "outputs": [],
   "source": [
    "conn = psycopg2.connect(dbname='traffic_accident', user='minghuang', host='localhost')\n",
    "query = \"select * from raw_911_response where event_clearance_description = 'MOTOR VEHICLE COLLISION';\"\n",
    "df = pd.read_sql_query(query, con=conn)"
   ]
  },
  {
   "cell_type": "code",
   "execution_count": 11,
   "metadata": {
    "collapsed": false
   },
   "outputs": [
    {
     "data": {
      "text/html": [
       "<div>\n",
       "<table border=\"1\" class=\"dataframe\">\n",
       "  <thead>\n",
       "    <tr style=\"text-align: right;\">\n",
       "      <th></th>\n",
       "      <th>cad_cdw_id</th>\n",
       "      <th>at_scene_time</th>\n",
       "      <th>cad_event_number</th>\n",
       "      <th>census_tract</th>\n",
       "      <th>district_sector</th>\n",
       "      <th>event_clearance_code</th>\n",
       "      <th>event_clearance_date</th>\n",
       "      <th>event_clearance_description</th>\n",
       "      <th>event_clearance_group</th>\n",
       "      <th>event_clearance_subgroup</th>\n",
       "      <th>general_offense_number</th>\n",
       "      <th>hundred_block_location</th>\n",
       "      <th>incident_location</th>\n",
       "      <th>initial_type_description</th>\n",
       "      <th>initial_type_group</th>\n",
       "      <th>initial_type_subgroup</th>\n",
       "      <th>latitude</th>\n",
       "      <th>longitude</th>\n",
       "      <th>zone_beat</th>\n",
       "    </tr>\n",
       "  </thead>\n",
       "  <tbody>\n",
       "    <tr>\n",
       "      <th>0</th>\n",
       "      <td>1531626</td>\n",
       "      <td>2015-08-27T12:13:00.000</td>\n",
       "      <td>15000299420</td>\n",
       "      <td>6600.1025</td>\n",
       "      <td>D</td>\n",
       "      <td>430</td>\n",
       "      <td>2015-08-27T14:28:00.000</td>\n",
       "      <td>MOTOR VEHICLE COLLISION</td>\n",
       "      <td>MOTOR VEHICLE COLLISION INVESTIGATION</td>\n",
       "      <td>TRAFFIC RELATED CALLS</td>\n",
       "      <td>2015299420</td>\n",
       "      <td>16XX BLOCK OF EASTLAKE AV E</td>\n",
       "      <td>{u'type': u'Point', u'coordinates': [-122.3254...</td>\n",
       "      <td>MOTOR VEHICLE COLLISION, REPORT ONLY - NON INJ...</td>\n",
       "      <td>TRAFFIC RELATED CALLS</td>\n",
       "      <td>MOTOR VEHICLE COLLISION INVESTIGATION</td>\n",
       "      <td>47.634362773</td>\n",
       "      <td>-122.325401505</td>\n",
       "      <td>D3</td>\n",
       "    </tr>\n",
       "    <tr>\n",
       "      <th>1</th>\n",
       "      <td>1531622</td>\n",
       "      <td>2015-08-27T13:28:00.000</td>\n",
       "      <td>15000299512</td>\n",
       "      <td>7300.3011</td>\n",
       "      <td>D</td>\n",
       "      <td>430</td>\n",
       "      <td>2015-08-27T14:29:00.000</td>\n",
       "      <td>MOTOR VEHICLE COLLISION</td>\n",
       "      <td>MOTOR VEHICLE COLLISION INVESTIGATION</td>\n",
       "      <td>TRAFFIC RELATED CALLS</td>\n",
       "      <td>2015299512</td>\n",
       "      <td>THOMAS ST / BOREN AV N</td>\n",
       "      <td>{u'type': u'Point', u'coordinates': [-122.3358...</td>\n",
       "      <td>TRU- MOTOR VEHICLE COLLISION, HIT AND RUN AFTE...</td>\n",
       "      <td>TRAFFIC RELATED CALLS</td>\n",
       "      <td>MOTOR VEHICLE COLLISION INVESTIGATION</td>\n",
       "      <td>47.620862708</td>\n",
       "      <td>-122.335859476</td>\n",
       "      <td>D3</td>\n",
       "    </tr>\n",
       "    <tr>\n",
       "      <th>2</th>\n",
       "      <td>1531595</td>\n",
       "      <td></td>\n",
       "      <td>15000299502</td>\n",
       "      <td>4302.1007</td>\n",
       "      <td>U</td>\n",
       "      <td>430</td>\n",
       "      <td>2015-08-27T13:51:00.000</td>\n",
       "      <td>MOTOR VEHICLE COLLISION</td>\n",
       "      <td>MOTOR VEHICLE COLLISION INVESTIGATION</td>\n",
       "      <td>TRAFFIC RELATED CALLS</td>\n",
       "      <td>2015299502</td>\n",
       "      <td>22 AV NE / NE 47 ST</td>\n",
       "      <td>{u'type': u'Point', u'coordinates': [-122.3044...</td>\n",
       "      <td>TRU- MOTOR VEHICLE COLLISION, HIT AND RUN AFTE...</td>\n",
       "      <td>TRAFFIC RELATED CALLS</td>\n",
       "      <td>MOTOR VEHICLE COLLISION INVESTIGATION</td>\n",
       "      <td>47.663071648</td>\n",
       "      <td>-122.304470135</td>\n",
       "      <td>U1</td>\n",
       "    </tr>\n",
       "    <tr>\n",
       "      <th>3</th>\n",
       "      <td>1531590</td>\n",
       "      <td></td>\n",
       "      <td>15000299537</td>\n",
       "      <td>8200.2006</td>\n",
       "      <td>E</td>\n",
       "      <td>430</td>\n",
       "      <td>2015-08-27T13:55:00.000</td>\n",
       "      <td>MOTOR VEHICLE COLLISION</td>\n",
       "      <td>MOTOR VEHICLE COLLISION INVESTIGATION</td>\n",
       "      <td>TRAFFIC RELATED CALLS</td>\n",
       "      <td>2015299537</td>\n",
       "      <td>8 AV / MADISON ST</td>\n",
       "      <td>{u'type': u'Point', u'coordinates': [-122.3284...</td>\n",
       "      <td>TRU- MOTOR VEHICLE COLLISION, HIT AND RUN AFTE...</td>\n",
       "      <td>TRAFFIC RELATED CALLS</td>\n",
       "      <td>MOTOR VEHICLE COLLISION INVESTIGATION</td>\n",
       "      <td>47.607943692</td>\n",
       "      <td>-122.328471925</td>\n",
       "      <td>E3</td>\n",
       "    </tr>\n",
       "    <tr>\n",
       "      <th>4</th>\n",
       "      <td>1531588</td>\n",
       "      <td></td>\n",
       "      <td>15000299563</td>\n",
       "      <td>11101.4004</td>\n",
       "      <td>R</td>\n",
       "      <td>430</td>\n",
       "      <td>2015-08-27T13:56:00.000</td>\n",
       "      <td>MOTOR VEHICLE COLLISION</td>\n",
       "      <td>MOTOR VEHICLE COLLISION INVESTIGATION</td>\n",
       "      <td>TRAFFIC RELATED CALLS</td>\n",
       "      <td>2015299563</td>\n",
       "      <td>M L KING JR WY S / S GRAHAM ST</td>\n",
       "      <td>{u'type': u'Point', u'coordinates': [-122.2854...</td>\n",
       "      <td>MOTOR VEHICLE COLLISION WITH INJURIES - PRIORI...</td>\n",
       "      <td>TRAFFIC RELATED CALLS</td>\n",
       "      <td>MOTOR VEHICLE COLLISION INVESTIGATION</td>\n",
       "      <td>47.546057749</td>\n",
       "      <td>-122.285452803</td>\n",
       "      <td>R3</td>\n",
       "    </tr>\n",
       "  </tbody>\n",
       "</table>\n",
       "</div>"
      ],
      "text/plain": [
       "  cad_cdw_id            at_scene_time cad_event_number census_tract  \\\n",
       "0    1531626  2015-08-27T12:13:00.000      15000299420    6600.1025   \n",
       "1    1531622  2015-08-27T13:28:00.000      15000299512    7300.3011   \n",
       "2    1531595                               15000299502    4302.1007   \n",
       "3    1531590                               15000299537    8200.2006   \n",
       "4    1531588                               15000299563   11101.4004   \n",
       "\n",
       "  district_sector event_clearance_code     event_clearance_date  \\\n",
       "0               D                  430  2015-08-27T14:28:00.000   \n",
       "1               D                  430  2015-08-27T14:29:00.000   \n",
       "2               U                  430  2015-08-27T13:51:00.000   \n",
       "3               E                  430  2015-08-27T13:55:00.000   \n",
       "4               R                  430  2015-08-27T13:56:00.000   \n",
       "\n",
       "  event_clearance_description                  event_clearance_group  \\\n",
       "0     MOTOR VEHICLE COLLISION  MOTOR VEHICLE COLLISION INVESTIGATION   \n",
       "1     MOTOR VEHICLE COLLISION  MOTOR VEHICLE COLLISION INVESTIGATION   \n",
       "2     MOTOR VEHICLE COLLISION  MOTOR VEHICLE COLLISION INVESTIGATION   \n",
       "3     MOTOR VEHICLE COLLISION  MOTOR VEHICLE COLLISION INVESTIGATION   \n",
       "4     MOTOR VEHICLE COLLISION  MOTOR VEHICLE COLLISION INVESTIGATION   \n",
       "\n",
       "  event_clearance_subgroup general_offense_number  \\\n",
       "0    TRAFFIC RELATED CALLS             2015299420   \n",
       "1    TRAFFIC RELATED CALLS             2015299512   \n",
       "2    TRAFFIC RELATED CALLS             2015299502   \n",
       "3    TRAFFIC RELATED CALLS             2015299537   \n",
       "4    TRAFFIC RELATED CALLS             2015299563   \n",
       "\n",
       "           hundred_block_location  \\\n",
       "0     16XX BLOCK OF EASTLAKE AV E   \n",
       "1          THOMAS ST / BOREN AV N   \n",
       "2             22 AV NE / NE 47 ST   \n",
       "3               8 AV / MADISON ST   \n",
       "4  M L KING JR WY S / S GRAHAM ST   \n",
       "\n",
       "                                   incident_location  \\\n",
       "0  {u'type': u'Point', u'coordinates': [-122.3254...   \n",
       "1  {u'type': u'Point', u'coordinates': [-122.3358...   \n",
       "2  {u'type': u'Point', u'coordinates': [-122.3044...   \n",
       "3  {u'type': u'Point', u'coordinates': [-122.3284...   \n",
       "4  {u'type': u'Point', u'coordinates': [-122.2854...   \n",
       "\n",
       "                            initial_type_description     initial_type_group  \\\n",
       "0  MOTOR VEHICLE COLLISION, REPORT ONLY - NON INJ...  TRAFFIC RELATED CALLS   \n",
       "1  TRU- MOTOR VEHICLE COLLISION, HIT AND RUN AFTE...  TRAFFIC RELATED CALLS   \n",
       "2  TRU- MOTOR VEHICLE COLLISION, HIT AND RUN AFTE...  TRAFFIC RELATED CALLS   \n",
       "3  TRU- MOTOR VEHICLE COLLISION, HIT AND RUN AFTE...  TRAFFIC RELATED CALLS   \n",
       "4  MOTOR VEHICLE COLLISION WITH INJURIES - PRIORI...  TRAFFIC RELATED CALLS   \n",
       "\n",
       "                   initial_type_subgroup      latitude       longitude  \\\n",
       "0  MOTOR VEHICLE COLLISION INVESTIGATION  47.634362773  -122.325401505   \n",
       "1  MOTOR VEHICLE COLLISION INVESTIGATION  47.620862708  -122.335859476   \n",
       "2  MOTOR VEHICLE COLLISION INVESTIGATION  47.663071648  -122.304470135   \n",
       "3  MOTOR VEHICLE COLLISION INVESTIGATION  47.607943692  -122.328471925   \n",
       "4  MOTOR VEHICLE COLLISION INVESTIGATION  47.546057749  -122.285452803   \n",
       "\n",
       "  zone_beat  \n",
       "0       D3   \n",
       "1       D3   \n",
       "2       U1   \n",
       "3       E3   \n",
       "4       R3   "
      ]
     },
     "execution_count": 11,
     "metadata": {},
     "output_type": "execute_result"
    }
   ],
   "source": [
    "df.head()"
   ]
  },
  {
   "cell_type": "code",
   "execution_count": 12,
   "metadata": {
    "collapsed": false
   },
   "outputs": [],
   "source": [
    "lgt = df.longitude.astype(float).values\n",
    "lat = df.latitude.astype(float).values"
   ]
  },
  {
   "cell_type": "code",
   "execution_count": 13,
   "metadata": {
    "collapsed": false
   },
   "outputs": [
    {
     "name": "stdout",
     "output_type": "stream",
     "text": [
      "-122.419091527 -122.237546385\n",
      "47.499911475 47.733948981\n"
     ]
    }
   ],
   "source": [
    "print min(lgt), max(lgt)\n",
    "print min(lat), max(lat)"
   ]
  },
  {
   "cell_type": "code",
   "execution_count": 14,
   "metadata": {
    "collapsed": false
   },
   "outputs": [
    {
     "data": {
      "image/png": "[encoded data removed]",
      "text/plain": [
       "<matplotlib.figure.Figure at 0x10a321390>"
      ]
     },
     "metadata": {},
     "output_type": "display_data"
    }
   ],
   "source": [
    "m = Basemap(projection='merc',# lat_0 = 57, lon_0 = -135,\n",
    "    resolution = 'h', area_thresh = 0.1,\n",
    "    llcrnrlon=-122.45, llcrnrlat=47.5,\n",
    "    urcrnrlon=-122.2, urcrnrlat=47.75)\n",
    "\n",
    "m.drawcoastlines()\n",
    "m.drawcountries()\n",
    "m.fillcontinents(color = 'coral')\n",
    "m.drawmapboundary()\n",
    "\n",
    "x, y = m(lgt, lat)\n",
    "m.plot(x, y, 'bo', markersize=1)\n",
    " \n",
    "plt.show()"
   ]
  },
  {
   "cell_type": "code",
   "execution_count": null,
   "metadata": {
    "collapsed": true
   },
   "outputs": [],
   "source": []
  }
 ],
 "metadata": {
  "kernelspec": {
   "display_name": "Python 2",
   "language": "python",
   "name": "python2"
  },
  "language_info": {
   "codemirror_mode": {
    "name": "ipython",
    "version": 2
   },
   "file_extension": ".py",
   "mimetype": "text/x-python",
   "name": "python",
   "nbconvert_exporter": "python",
   "pygments_lexer": "ipython2",
   "version": "2.7.10"
  }
 },
 "nbformat": 4,
 "nbformat_minor": 0
}
