{
 "cells": [
  {
   "cell_type": "code",
   "execution_count": 1,
   "metadata": {
    "collapsed": true
   },
   "outputs": [],
   "source": [
    "import requests\n",
    "from bs4 import BeautifulSoup"
   ]
  },
  {
   "cell_type": "code",
   "execution_count": 2,
   "metadata": {
    "collapsed": true
   },
   "outputs": [],
   "source": [
    "r = requests.get('http://www.footballdb.com/teams/nfl/seattle-seahawks/results/2014')"
   ]
  },
  {
   "cell_type": "code",
   "execution_count": 5,
   "metadata": {
    "collapsed": false
   },
   "outputs": [],
   "source": [
    "soup = BeautifulSoup(r.text)"
   ]
  },
  {
   "cell_type": "code",
   "execution_count": 22,
   "metadata": {
    "collapsed": false
   },
   "outputs": [],
   "source": [
    "header = soup.findAll('tr', {'class': 'header'})[0]\n",
    "table = soup.findAll('tr')"
   ]
  },
  {
   "cell_type": "code",
   "execution_count": 48,
   "metadata": {
    "collapsed": false
   },
   "outputs": [
    {
     "name": "stdout",
     "output_type": "stream",
     "text": [
      "\"09/04/2014\",\"Green Bay\",\"CenturyLink Field (Seattle, WA)\",\"W 36-16\",\"68,424\"\n",
      "\"09/14/2014\",\"San Diego\",\"Qualcomm Stadium (San Diego, CA)\",\"L 30-21\",\"67,916\"\n",
      "\"09/21/2014\",\"Denver\",\"CenturyLink Field (Seattle, WA)\",\"W 26-20\",\"68,447\"\n",
      "\"10/06/2014\",\"Washington\",\"FedExField (Landover, MD)\",\"W 27-17\",\"79,522\"\n",
      "\"10/12/2014\",\"Dallas\",\"CenturyLink Field (Seattle, WA)\",\"L 30-23\",\"68,432\"\n",
      "\"10/19/2014\",\"St. Louis\",\"Edward Jones Dome (St. Louis, MO)\",\"L 28-26\",\"57,855\"\n",
      "\"10/26/2014\",\"Carolina\",\"Bank of America Stadium (Charlotte, NC)\",\"W 13-9\",\"74,042\"\n",
      "\"11/02/2014\",\"Oakland\",\"CenturyLink Field (Seattle, WA)\",\"W 30-24\",\"68,337\"\n",
      "\"11/09/2014\",\"NY Giants\",\"CenturyLink Field (Seattle, WA)\",\"W 38-17\",\"68,352\"\n",
      "\"11/16/2014\",\"Kansas City\",\"Arrowhead Stadium (Kansas City, MO)\",\"L 24-20\",\"76,463\"\n",
      "\"11/23/2014\",\"Arizona\",\"CenturyLink Field (Seattle, WA)\",\"W 19-3\",\"68,327\"\n",
      "\"11/27/2014\",\"San Francisco\",\"Levi's Stadium (Santa Clara, CA)\",\"W 19-3\",\"70,799\"\n",
      "\"12/07/2014\",\"Philadelphia\",\"Lincoln Financial Field (Philadelphia, PA)\",\"W 24-14\",\"69,596\"\n",
      "\"12/14/2014\",\"San Francisco\",\"CenturyLink Field (Seattle, WA)\",\"W 17-7\",\"68,526\"\n",
      "\"12/21/2014\",\"Arizona\",\"University of Phoenix Stadium (Glendale, AZ)\",\"W 35-6\",\"63,806\"\n",
      "\"12/28/2014\",\"St. Louis\",\"CenturyLink Field (Seattle, WA)\",\"W 20-6\",\"68,453\"\n",
      "\"01/10/2015\",\"Carolina\",\"CenturyLink Field (Seattle, WA)\",\"W 31-17\",\"68,524\"\n",
      "\"01/18/2015\",\"Green Bay\",\"CenturyLink Field (Seattle, WA)\",\"W 28-22\",\"68,538\"\n",
      "\"02/01/2015\",\"New England\",\"University of Phoenix Stadium (Glendale, AZ)\",\"L 28-24\",\"70,288\"\n",
      "\"08/07/2014\",\"Denver\",\"Sports Authority Field at Mile High (Denver, CO)\",\"L 21-16\",\"--\"\n",
      "\"08/15/2014\",\"San Diego\",\"CenturyLink Field (Seattle, WA)\",\"W 41-14\",\"--\"\n",
      "\"08/22/2014\",\"Chicago\",\"CenturyLink Field (Seattle, WA)\",\"W 34-6\",\"--\"\n",
      "\"08/28/2014\",\"Oakland\",\"O.co Coliseum (Oakland, CA)\",\"L 41-31\",\"--\"\n"
     ]
    }
   ],
   "source": [
    "for row in table:\n",
    "    if row.attrs.values()[0][0] != 'header':\n",
    "        unwanted = set(['@ ', ', ', 'OT', '\\n'])\n",
    "        quotes = '\"{0}\"'\n",
    "        data = []\n",
    "        for i, s in enumerate(row.strings):\n",
    "            quotes = '\"{0}\"'\n",
    "            if i == 0:\n",
    "                data.append(quotes.format(s.split(' ')[0]))\n",
    "            else:\n",
    "                if s not in unwanted:\n",
    "                    data.append(quotes.format(s))\n",
    "        print ','.join(data)"
   ]
  },
  {
   "cell_type": "code",
   "execution_count": 1,
   "metadata": {
    "collapsed": false
   },
   "outputs": [],
   "source": [
    "from footballdb_scraper import footballdb_scraper as fs"
   ]
  },
  {
   "cell_type": "code",
   "execution_count": 2,
   "metadata": {
    "collapsed": true
   },
   "outputs": [],
   "source": [
    "scraper = fs.FootballdbScraper()"
   ]
  },
  {
   "cell_type": "code",
   "execution_count": 4,
   "metadata": {
    "collapsed": false
   },
   "outputs": [],
   "source": [
    "scraper.download_years([2009, 2010, 2011, 2012, 2013, 2014, 2015])"
   ]
  },
  {
   "cell_type": "code",
   "execution_count": null,
   "metadata": {
    "collapsed": true
   },
   "outputs": [],
   "source": []
  }
 ],
 "metadata": {
  "kernelspec": {
   "display_name": "Python 2",
   "language": "python",
   "name": "python2"
  },
  "language_info": {
   "codemirror_mode": {
    "name": "ipython",
    "version": 2
   },
   "file_extension": ".py",
   "mimetype": "text/x-python",
   "name": "python",
   "nbconvert_exporter": "python",
   "pygments_lexer": "ipython2",
   "version": "2.7.10"
  }
 },
 "nbformat": 4,
 "nbformat_minor": 0
}
