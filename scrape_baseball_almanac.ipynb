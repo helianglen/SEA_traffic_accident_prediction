{
 "cells": [
  {
   "cell_type": "code",
   "execution_count": 1,
   "metadata": {
    "collapsed": true
   },
   "outputs": [],
   "source": [
    "import requests\n",
    "from bs4 import BeautifulSoup"
   ]
  },
  {
   "cell_type": "code",
   "execution_count": 2,
   "metadata": {
    "collapsed": true
   },
   "outputs": [],
   "source": [
    "r = requests.get('http://www.baseball-almanac.com/teamstats/schedule.php?y=2010&t=SEA')"
   ]
  },
  {
   "cell_type": "code",
   "execution_count": 3,
   "metadata": {
    "collapsed": true
   },
   "outputs": [],
   "source": [
    "soup = BeautifulSoup(r.text)"
   ]
  },
  {
   "cell_type": "code",
   "execution_count": 5,
   "metadata": {
    "collapsed": false
   },
   "outputs": [],
   "source": [
    "table = soup.find('table', {'class': 'boxed'})"
   ]
  },
  {
   "cell_type": "code",
   "execution_count": 31,
   "metadata": {
    "collapsed": false
   },
   "outputs": [],
   "source": [
    "test = table.findAll('tr')[3]"
   ]
  },
  {
   "cell_type": "code",
   "execution_count": 32,
   "metadata": {
    "collapsed": false
   },
   "outputs": [
    {
     "data": {
      "text/plain": [
       "u'\"2\",\"04-06-2010\",\"at Oakland Athletics\",\"1-2\",\"L\",\"1-1\"'"
      ]
     },
     "execution_count": 32,
     "metadata": {},
     "output_type": "execute_result"
    }
   ],
   "source": [
    "','.join(['\"' + s + '\"' for s in test.strings if s != '\\n'])"
   ]
  },
  {
   "cell_type": "code",
   "execution_count": 36,
   "metadata": {
    "collapsed": false
   },
   "outputs": [
    {
     "name": "stdout",
     "output_type": "stream",
     "text": [
      "\"Game\",\"Date / Box Score\",\"Opponent\",\"Score\",\"Decision\",\"Record\"\n",
      "\"1\",\"04-05-2010\",\"at Oakland Athletics\",\"5-3\",\"W\",\"1-0\"\n",
      "\"2\",\"04-06-2010\",\"at Oakland Athletics\",\"1-2\",\"L\",\"1-1\"\n",
      "\"3\",\"04-07-2010\",\"at Oakland Athletics\",\"5-6\",\"L\",\"1-2\"\n",
      "\"4\",\"04-08-2010\",\"at Oakland Athletics\",\"2-6\",\"L\",\"1-3\"\n",
      "\"5\",\"04-09-2010\",\"at Texas Rangers\",\"2-6\",\"L\",\"1-4\"\n",
      "\"6\",\"04-10-2010\",\"at Texas Rangers\",\"4-3\",\"W\",\"2-4\"\n",
      "\"7\",\"04-11-2010\",\"at Texas Rangers\",\"2-9\",\"L\",\"2-5\"\n",
      "\"8\",\"04-12-2010\",\"vs Oakland Athletics\",\"0-4\",\"L\",\"2-6\"\n",
      "\"9\",\"04-13-2010\",\"vs Oakland Athletics\",\"3-0\",\"W\",\"3-6\"\n",
      "\"10\",\"04-14-2010\",\"vs Oakland Athletics\",\"4-2\",\"W\",\"4-6\"\n",
      "\"11\",\"04-16-2010\",\"vs Detroit Tigers\",\"11-3\",\"W\",\"5-6\"\n",
      "\"12\",\"04-17-2010\",\"vs Detroit Tigers\",\"4-2\",\"W\",\"6-6\"\n",
      "\"13\",\"04-18-2010\",\"vs Detroit Tigers\",\"2-4\",\"L\",\"6-7\"\n",
      "\"14\",\"04-19-2010\",\"vs Baltimore Orioles\",\"8-2\",\"W\",\"7-7\"\n",
      "\"15\",\"04-20-2010\",\"vs Baltimore Orioles\",\"3-1\",\"W\",\"8-7\"\n",
      "\"16\",\"04-21-2010\",\"vs Baltimore Orioles\",\"4-1\",\"W\",\"9-7\"\n",
      "\"17\",\"04-23-2010\",\"at Chicago White Sox\",\"6-7\",\"L\",\"9-8\"\n",
      "\"18\",\"04-24-2010\",\"at Chicago White Sox\",\"4-5\",\"L\",\"9-9\"\n",
      "\"19\",\"04-25-2010\",\"at Chicago White Sox\",\"2-3\",\"L\",\"9-10\"\n",
      "\"20\",\"04-26-2010\",\"at Kansas City Royals\",\"1-3\",\"L\",\"9-11\"\n",
      "\"21\",\"04-27-2010\",\"at Kansas City Royals\",\"3-2\",\"W\",\"10-11\"\n",
      "\"22\",\"04-28-2010\",\"at Kansas City Royals\",\"6-5\",\"W\",\"11-11\"\n",
      "\"23\",\"04-30-2010\",\"vs Texas Rangers\",\"0-2\",\"L\",\"11-12\"\n",
      "\"24\",\"05-01-2010\",\"vs Texas Rangers\",\"3-6\",\"L\",\"11-13\"\n",
      "\"25\",\"05-02-2010\",\"vs Texas Rangers\",\"1-3\",\"L\",\"11-14\"\n",
      "\"26\",\"05-04-2010\",\"vs Tampa Bay Rays\",\"2-5\",\"L\",\"11-15\"\n",
      "\"27\",\"05-05-2010\",\"vs Tampa Bay Rays\",\"3-8\",\"L\",\"11-16\"\n",
      "\"28\",\"05-06-2010\",\"vs Tampa Bay Rays\",\"0-8\",\"L\",\"11-17\"\n",
      "\"29\",\"05-07-2010\",\"vs Los Angeles Angels of Anaheim\",\"0-8\",\"L\",\"11-18\"\n",
      "\"30\",\"05-08-2010\",\"vs Los Angeles Angels of Anaheim\",\"3-4\",\"L\",\"11-19\"\n",
      "\"31\",\"05-09-2010\",\"vs Los Angeles Angels of Anaheim\",\"8-1\",\"W\",\"12-19\"\n",
      "\"32\",\"05-11-2010\",\"at Baltimore Orioles\",\"5-1\",\"W\",\"13-19\"\n",
      "\"33\",\"05-12-2010\",\"at Baltimore Orioles\",\"2-5\",\"L\",\"13-20\"\n",
      "\"34\",\"05-13-2010\",\"at Baltimore Orioles\",\"5-6\",\"L\",\"13-21\"\n",
      "\"35\",\"05-14-2010\",\"at Tampa Bay Rays\",\"4-3\",\"W\",\"14-21\"\n",
      "\"36\",\"05-15-2010\",\"at Tampa Bay Rays\",\"2-3\",\"L\",\"14-22\"\n",
      "\"37\",\"05-16-2010\",\"at Tampa Bay Rays\",\"1-2\",\"L\",\"14-23\"\n",
      "\"38\",\"05-17-2010\",\"at Oakland Athletics\",\"4-8\",\"L\",\"14-24\"\n",
      "\"39\",\"05-18-2010\",\"at Oakland Athletics\",\"5-6\",\"L\",\"14-25\"\n",
      "\"40\",\"05-19-2010\",\"vs Toronto Blue Jays\",\"2-3\",\"L\",\"14-26\"\n",
      "\"41\",\"05-20-2010\",\"vs Toronto Blue Jays\",\"4-3\",\"W\",\"15-26\"\n",
      "\"42\",\"05-21-2010\",\"vs San Diego Padres\",\"15-8\",\"W\",\"16-26\"\n",
      "\"43\",\"05-22-2010\",\"vs San Diego Padres\",\"1-2\",\"L\",\"16-27\"\n",
      "\"44\",\"05-23-2010\",\"vs San Diego Padres\",\"1-8\",\"L\",\"16-28\"\n",
      "\"45\",\"05-25-2010\",\"vs Detroit Tigers\",\"5-3\",\"W\",\"17-28\"\n",
      "\"46\",\"05-26-2010\",\"vs Detroit Tigers\",\"5-4\",\"W\",\"18-28\"\n",
      "\"47\",\"05-28-2010\",\"at Los Angeles Angels of Anaheim\",\"8-3\",\"W\",\"19-28\"\n",
      "\"48\",\"05-29-2010\",\"at Los Angeles Angels of Anaheim\",\"1-5\",\"L\",\"19-29\"\n",
      "\"49\",\"05-30-2010\",\"at Los Angeles Angels of Anaheim\",\"7-9\",\"L\",\"19-30\"\n",
      "\"50\",\"05-31-2010\",\"vs Minnesota Twins\",\"4-5\",\"L\",\"19-31\"\n",
      "\"51\",\"06-01-2010\",\"vs Minnesota Twins\",\"7-1\",\"W\",\"20-31\"\n",
      "\"52\",\"06-02-2010\",\"vs Minnesota Twins\",\"2-1\",\"W\",\"21-31\"\n",
      "\"53\",\"06-03-2010\",\"vs Minnesota Twins\",\"4-1\",\"W\",\"22-31\"\n",
      "\"54\",\"06-04-2010\",\"vs Los Angeles Angels of Anaheim\",\"1-7\",\"L\",\"22-32\"\n",
      "\"55\",\"06-05-2010\",\"vs Los Angeles Angels of Anaheim\",\"2-11\",\"L\",\"22-33\"\n",
      "\"56\",\"06-06-2010\",\"vs Los Angeles Angels of Anaheim\",\"4-9\",\"L\",\"22-34\"\n",
      "\"57\",\"06-07-2010\",\"at Texas Rangers\",\"4-2\",\"W\",\"23-34\"\n",
      "\"58\",\"06-08-2010\",\"at Texas Rangers\",\"1-7\",\"L\",\"23-35\"\n",
      "\"59\",\"06-09-2010\",\"at Texas Rangers\",\"2-12\",\"L\",\"23-36\"\n",
      "\"60\",\"06-10-2010\",\"at Texas Rangers\",\"3-12\",\"L\",\"23-37\"\n",
      "\"61\",\"06-11-2010\",\"at San Diego Padres\",\"3-4\",\"L\",\"23-38\"\n",
      "\"62\",\"06-12-2010\",\"at San Diego Padres\",\"1-7\",\"L\",\"23-39\"\n",
      "\"63\",\"06-13-2010\",\"at San Diego Padres\",\"4-2\",\"W\",\"24-39\"\n",
      "\"64\",\"06-14-2010\",\"at St. Louis Cardinals\",\"3-9\",\"L\",\"24-40\"\n",
      "\"65\",\"06-15-2010\",\"at St. Louis Cardinals\",\"2-4\",\"L\",\"24-41\"\n",
      "\"66\",\"06-16-2010\",\"at St. Louis Cardinals\",\"2-1\",\"W\",\"25-41\"\n",
      "\"67\",\"06-18-2010\",\"vs Cincinnati Reds\",\"1-0\",\"W\",\"26-41\"\n",
      "\"68\",\"06-19-2010\",\"vs Cincinnati Reds\",\"5-1\",\"W\",\"27-41\"\n",
      "\"69\",\"06-20-2010\",\"vs Cincinnati Reds\",\"1-0\",\"W\",\"28-41\"\n",
      "\"70\",\"06-22-2010\",\"vs Chicago Cubs\",\"2-0\",\"W\",\"29-41\"\n",
      "\"71\",\"06-23-2010\",\"vs Chicago Cubs\",\"8-1\",\"W\",\"30-41\"\n",
      "\"72\",\"06-24-2010\",\"vs Chicago Cubs\",\"2-3\",\"L\",\"30-42\"\n",
      "\"73\",\"06-25-2010\",\"at Milwaukee Brewers\",\"3-8\",\"L\",\"30-43\"\n",
      "\"74\",\"06-26-2010\",\"at Milwaukee Brewers\",\"5-4\",\"W\",\"31-43\"\n",
      "\"75\",\"06-27-2010\",\"at Milwaukee Brewers\",\"0-3\",\"L\",\"31-44\"\n",
      "\"76\",\"06-29-2010\",\"at New York Yankees\",\"7-4\",\"W\",\"32-44\"\n",
      "\"77\",\"06-30-2010\",\"at New York Yankees\",\"7-0\",\"W\",\"33-44\"\n",
      "\"78\",\"07-01-2010\",\"at New York Yankees\",\"2-4\",\"L\",\"33-45\"\n",
      "\"79\",\"07-02-2010\",\"at Detroit Tigers\",\"1-7\",\"L\",\"33-46\"\n",
      "\"80\",\"07-03-2010\",\"at Detroit Tigers\",\"1-6\",\"L\",\"33-47\"\n",
      "\"81\",\"07-04-2010\",\"at Detroit Tigers\",\"8-1\",\"W\",\"34-47\"\n",
      "\"82\",\"07-05-2010\",\"vs Kansas City Royals\",\"4-6\",\"L\",\"34-48\"\n",
      "\"83\",\"07-06-2010\",\"vs Kansas City Royals\",\"2-3\",\"L\",\"34-49\"\n",
      "\"84\",\"07-07-2010\",\"vs Kansas City Royals\",\"3-7\",\"L\",\"34-50\"\n",
      "\"85\",\"07-08-2010\",\"vs New York Yankees\",\"1-3\",\"L\",\"34-51\"\n",
      "\"86\",\"07-09-2010\",\"vs New York Yankees\",\"1-6\",\"L\",\"34-52\"\n",
      "\"87\",\"07-10-2010\",\"vs New York Yankees\",\"4-1\",\"W\",\"35-52\"\n",
      "\"88\",\"07-11-2010\",\"vs New York Yankees\",\"2-8\",\"L\",\"35-53\"\n",
      "\"89\",\"07-15-2010\",\"at Los Angeles Angels of Anaheim\",\"3-8\",\"L\",\"35-54\"\n",
      "\"90\",\"07-16-2010\",\"at Los Angeles Angels of Anaheim\",\"2-3\",\"L\",\"35-55\"\n",
      "\"91\",\"07-17-2010\",\"at Los Angeles Angels of Anaheim\",\"6-7\",\"L\",\"35-56\"\n",
      "\"92\",\"07-18-2010\",\"at Los Angeles Angels of Anaheim\",\"2-1\",\"W\",\"36-56\"\n",
      "\"93\",\"07-19-2010\",\"vs Chicago White Sox\",\"1-6\",\"L\",\"36-57\"\n",
      "\"94\",\"07-20-2010\",\"vs Chicago White Sox\",\"0-4\",\"L\",\"36-58\"\n",
      "\"95\",\"07-21-2010\",\"vs Chicago White Sox\",\"2-1\",\"W\",\"37-58\"\n",
      "\"96\",\"07-22-2010\",\"vs Boston Red Sox\",\"6-8\",\"L\",\"37-59\"\n",
      "\"97\",\"07-23-2010\",\"vs Boston Red Sox\",\"1-2\",\"L\",\"37-60\"\n",
      "\"98\",\"07-24-2010\",\"vs Boston Red Sox\",\"5-1\",\"W\",\"38-60\"\n",
      "\"99\",\"07-25-2010\",\"vs Boston Red Sox\",\"4-2\",\"W\",\"39-60\"\n",
      "\"100\",\"07-26-2010\",\"at Chicago White Sox\",\"1-6\",\"L\",\"39-61\"\n",
      "\"101\",\"07-27-2010\",\"at Chicago White Sox\",\"0-11\",\"L\",\"39-62\"\n",
      "\"102\",\"07-28-2010\",\"at Chicago White Sox\",\"5-6\",\"L\",\"39-63\"\n",
      "\"103\",\"07-29-2010\",\"at Chicago White Sox\",\"5-9\",\"L\",\"39-64\"\n",
      "\"104\",\"07-30-2010\",\"at Minnesota Twins\",\"3-5\",\"L\",\"39-65\"\n",
      "\"105\",\"07-31-2010\",\"at Minnesota Twins\",\"0-4\",\"L\",\"39-66\"\n",
      "\"106\",\"08-01-2010\",\"at Minnesota Twins\",\"0-4\",\"L\",\"39-67\"\n",
      "\"107\",\"08-03-2010\",\"vs Texas Rangers\",\"3-2\",\"W\",\"40-67\"\n",
      "\"108\",\"08-04-2010\",\"vs Texas Rangers\",\"6-11\",\"L\",\"40-68\"\n",
      "\"109\",\"08-05-2010\",\"vs Texas Rangers\",\"0-6\",\"L\",\"40-69\"\n",
      "\"110\",\"08-06-2010\",\"vs Kansas City Royals\",\"7-1\",\"W\",\"41-69\"\n",
      "\"111\",\"08-07-2010\",\"vs Kansas City Royals\",\"1-2\",\"L\",\"41-70\"\n",
      "\"112\",\"08-08-2010\",\"vs Kansas City Royals\",\"3-2\",\"W\",\"42-70\"\n",
      "\"113\",\"08-09-2010\",\"vs Oakland Athletics\",\"3-1\",\"W\",\"43-70\"\n",
      "\"114\",\"08-10-2010\",\"vs Oakland Athletics\",\"2-0\",\"W\",\"44-70\"\n",
      "\"115\",\"08-11-2010\",\"vs Oakland Athletics\",\"1-5\",\"L\",\"44-71\"\n",
      "\"116\",\"08-13-2010\",\"at Cleveland Indians\",\"3-2\",\"W\",\"45-71\"\n",
      "\"117\",\"08-14-2010\",\"at Cleveland Indians\",\"9-3\",\"W\",\"46-71\"\n",
      "\"118\",\"08-15-2010\",\"at Cleveland Indians\",\"1-9\",\"L\",\"46-72\"\n",
      "\"119\",\"08-16-2010\",\"at Baltimore Orioles\",\"4-5\",\"L\",\"46-73\"\n",
      "\"120\",\"08-17-2010\",\"at Baltimore Orioles\",\"4-0\",\"W\",\"47-73\"\n",
      "\"121\",\"08-18-2010\",\"at Baltimore Orioles\",\"6-5\",\"W\",\"48-73\"\n",
      "\"122\",\"08-20-2010\",\"at New York Yankees\",\"6-0\",\"W\",\"49-73\"\n",
      "\"123\",\"08-21-2010\",\"at New York Yankees\",\"5-9\",\"L\",\"49-74\"\n",
      "\"124\",\"08-22-2010\",\"at New York Yankees\",\"0-10\",\"L\",\"49-75\"\n",
      "\"125\",\"08-23-2010\",\"at Boston Red Sox\",\"3-6\",\"L\",\"49-76\"\n",
      "\"126\",\"08-24-2010\",\"at Boston Red Sox\",\"0-0\",\"T\",\"49-76-1\"\n",
      "\"127-I\",\"08-25-2010\",\"at Boston Red Sox\",\"3-5\",\"L\",\"49-77-1\"\n",
      "\"128-II\",\"08-25-2010\",\"at Boston Red Sox\",\"4-2\",\"W\",\"50-77-1\"\n",
      "\"129\",\"08-27-2010\",\"vs Minnesota Twins\",\"3-6\",\"L\",\"50-78-1\"\n",
      "\"130\",\"08-28-2010\",\"vs Minnesota Twins\",\"0-1\",\"L\",\"50-79-1\"\n",
      "\"131\",\"08-29-2010\",\"vs Minnesota Twins\",\"2-1\",\"W\",\"51-79-1\"\n",
      "\"132\",\"08-30-2010\",\"vs Los Angeles Angels of Anaheim\",\"3-5\",\"L\",\"51-80-1\"\n",
      "\"133\",\"08-31-2010\",\"vs Los Angeles Angels of Anaheim\",\"3-1\",\"W\",\"52-80-1\"\n",
      "\"134\",\"09-01-2010\",\"vs Los Angeles Angels of Anaheim\",\"2-4\",\"L\",\"52-81-1\"\n",
      "\"135\",\"09-02-2010\",\"vs Cleveland Indians\",\"3-6\",\"L\",\"52-82-1\"\n",
      "\"136\",\"09-03-2010\",\"vs Cleveland Indians\",\"1-0\",\"W\",\"53-82-1\"\n",
      "\"137\",\"09-04-2010\",\"vs Cleveland Indians\",\"2-4\",\"L\",\"53-83-1\"\n",
      "\"138\",\"09-05-2010\",\"vs Cleveland Indians\",\"3-0\",\"W\",\"54-83-1\"\n",
      "\"139\",\"09-06-2010\",\"at Oakland Athletics\",\"2-6\",\"L\",\"54-84-1\"\n",
      "\"140\",\"09-07-2010\",\"at Oakland Athletics\",\"7-5\",\"W\",\"55-84-1\"\n",
      "\"141\",\"09-08-2010\",\"at Oakland Athletics\",\"3-4\",\"L\",\"55-85-1\"\n",
      "\"142\",\"09-10-2010\",\"at Los Angeles Angels of Anaheim\",\"3-4\",\"L\",\"55-86-1\"\n",
      "\"143\",\"09-11-2010\",\"at Los Angeles Angels of Anaheim\",\"4-7\",\"L\",\"55-87-1\"\n",
      "\"144\",\"09-12-2010\",\"at Los Angeles Angels of Anaheim\",\"0-3\",\"L\",\"55-88-1\"\n",
      "\"145\",\"09-13-2010\",\"vs Boston Red Sox\",\"1-5\",\"L\",\"55-89-1\"\n",
      "\"146\",\"09-14-2010\",\"vs Boston Red Sox\",\"6-9\",\"L\",\"55-90-1\"\n",
      "\"147\",\"09-15-2010\",\"vs Boston Red Sox\",\"1-5\",\"L\",\"55-91-1\"\n",
      "\"148\",\"09-17-2010\",\"vs Texas Rangers\",\"2-1\",\"W\",\"56-91-1\"\n",
      "\"149\",\"09-18-2010\",\"vs Texas Rangers\",\"1-6\",\"L\",\"56-92-1\"\n",
      "\"150\",\"09-19-2010\",\"vs Texas Rangers\",\"2-1\",\"W\",\"57-92-1\"\n",
      "\"151\",\"09-21-2010\",\"at Toronto Blue Jays\",\"3-5\",\"L\",\"57-93-1\"\n",
      "\"152\",\"09-22-2010\",\"at Toronto Blue Jays\",\"6-3\",\"W\",\"58-93-1\"\n",
      "\"153\",\"09-23-2010\",\"at Toronto Blue Jays\",\"0-1\",\"L\",\"58-94-1\"\n",
      "\"154\",\"09-24-2010\",\"at Tampa Bay Rays\",\"3-5\",\"L\",\"58-95-1\"\n",
      "\"155\",\"09-25-2010\",\"at Tampa Bay Rays\",\"1-9\",\"L\",\"58-96-1\"\n",
      "\"156\",\"09-26-2010\",\"at Tampa Bay Rays\",\"6-2\",\"W\",\"59-96-1\"\n",
      "\"157\",\"09-27-2010\",\"at Texas Rangers\",\"7-5\",\"W\",\"60-96-1\"\n",
      "\"158\",\"09-28-2010\",\"at Texas Rangers\",\"3-1\",\"W\",\"61-96-1\"\n",
      "\"159\",\"09-29-2010\",\"at Texas Rangers\",\"5-6\",\"L\",\"61-97-1\"\n",
      "\"160\",\"09-30-2010\",\"vs Oakland Athletics\",\"1-8\",\"L\",\"61-98-1\"\n",
      "\"161\",\"10-01-2010\",\"vs Oakland Athletics\",\"0-9\",\"L\",\"61-99-1\"\n",
      "\"162\",\"10-02-2010\",\"vs Oakland Athletics\",\"3-5\",\"L\",\"61-100-1\"\n",
      "\"163\",\"10-03-2010\",\"vs Oakland Athletics\",\"3-4\",\"L\",\"61-101-1\"\n"
     ]
    }
   ],
   "source": [
    "for row in table.findAll('tr')[1:-4]:\n",
    "    print ','.join(['\"' + s + '\"' for s in row.strings if s != '\\n'])"
   ]
  },
  {
   "cell_type": "code",
   "execution_count": null,
   "metadata": {
    "collapsed": true
   },
   "outputs": [],
   "source": []
  }
 ],
 "metadata": {
  "kernelspec": {
   "display_name": "Python 2",
   "language": "python",
   "name": "python2"
  },
  "language_info": {
   "codemirror_mode": {
    "name": "ipython",
    "version": 2
   },
   "file_extension": ".py",
   "mimetype": "text/x-python",
   "name": "python",
   "nbconvert_exporter": "python",
   "pygments_lexer": "ipython2",
   "version": "2.7.10"
  }
 },
 "nbformat": 4,
 "nbformat_minor": 0
}
